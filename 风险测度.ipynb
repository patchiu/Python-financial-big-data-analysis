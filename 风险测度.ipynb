{
 "cells": [
  {
   "cell_type": "markdown",
   "metadata": {},
   "source": [
    "风险测度"
   ]
  },
  {
   "cell_type": "markdown",
   "metadata": {},
   "source": [
    "10.4.1 风险价值"
   ]
  },
  {
   "cell_type": "code",
   "execution_count": 29,
   "metadata": {},
   "outputs": [],
   "source": [
    "import numpy as np\n",
    "import numpy.random as npr\n",
    "import matplotlib.pyplot as plt\n",
    "import scipy.stats as scs"
   ]
  },
  {
   "cell_type": "markdown",
   "metadata": {},
   "source": [
    "使用 lack -Scholes-Merton 设置"
   ]
  },
  {
   "cell_type": "code",
   "execution_count": 30,
   "metadata": {},
   "outputs": [],
   "source": [
    "S0 = 100\n",
    "r = 0.05\n",
    "sigma = 0.25\n",
    "T = 30 / 365.\n",
    "I = 10008\n",
    "ST = S0 * np.exp((r - 0.5 * sigma ** 2) * T + sigma * np.sqrt(T) * npr.standard_normal(I)) "
   ]
  },
  {
   "cell_type": "code",
   "execution_count": 31,
   "metadata": {},
   "outputs": [],
   "source": [
    "R_gbm = np.sort(ST - S0)"
   ]
  },
  {
   "cell_type": "code",
   "execution_count": 32,
   "metadata": {},
   "outputs": [
    {
     "data": {
      "image/png": "[encoded data removed]",
      "text/plain": [
       "<Figure size 432x288 with 1 Axes>"
      ]
     },
     "metadata": {
      "needs_background": "light"
     },
     "output_type": "display_data"
    }
   ],
   "source": [
    "plt.hist(R_gbm, bins=50)\n",
    "plt.xlabel('ab501ute return')\n",
    "plt.ylabel('frequency')\n",
    "plt.grid(True)"
   ]
  },
  {
   "cell_type": "code",
   "execution_count": 33,
   "metadata": {},
   "outputs": [
    {
     "name": "stdout",
     "output_type": "stream",
     "text": [
      "Confidence Level    Value-at-Risk\n",
      "---------------------------------\n",
      "           99.99           22.530\n",
      "           99.90           18.856\n",
      "           99.00           15.257\n",
      "           97.50           12.666\n",
      "           95.00           10.789\n",
      "           90.00            8.460\n"
     ]
    }
   ],
   "source": [
    "percs = [0.01, 0.1, 1., 2.5, 5.0, 10.0]\n",
    "var = scs.scoreatpercentile(R_gbm, percs)\n",
    "print('%16s %16s' % ('Confidence Level', 'Value-at-Risk'))\n",
    "print(33 * '-')\n",
    "for pair in zip(percs, var):\n",
    "    print('%16.2f %16.3f' % (100 - pair[0], -pair[1]))"
   ]
  },
  {
   "cell_type": "markdown",
   "metadata": {},
   "source": [
    "Merton 的跳跃扩散 动态模拟:"
   ]
  },
  {
   "cell_type": "code",
   "execution_count": 36,
   "metadata": {},
   "outputs": [],
   "source": [
    "S0 = 100.\n",
    "r = 0.05\n",
    "sigma = 0.2\n",
    "lamb = 0.75\n",
    "mu = -0.6\n",
    "delta = 0.25\n",
    "T = 1.0\n",
    "\n",
    "\n",
    "M = 50\n",
    "I = 10000\n",
    "dt = 30. / 365 / M\n",
    "rj = lamb * (np.exp(mu + 0.5 * delta ** 2) - 1)\n",
    "S = np.zeros((M + 1, I))\n",
    "S[0] = S0\n",
    "\n",
    "sn1 = npr.standard_normal((M + 1, I))\n",
    "sn2 = npr.standard_normal((M + 1, I))\n",
    "poi = npr.poisson(lamb * dt, (M + 1, I))\n",
    "for t in range(1, M + 1, 1):\n",
    "    S[t] = S[t - 1] * (np.exp((r - rj - 0.5 * sigma ** 2) * dt+ sigma * np.sqrt(dt) * sn1[t])+ (np.exp(mu + delta * sn2[t]) - 1)* poi[t])\n",
    "    S[t] = np.maximum(S[t], 0)"
   ]
  },
  {
   "cell_type": "code",
   "execution_count": 37,
   "metadata": {},
   "outputs": [],
   "source": [
    "R_jd = np.sort(S[-1] - S0)"
   ]
  },
  {
   "cell_type": "code",
   "execution_count": 39,
   "metadata": {},
   "outputs": [
    {
     "data": {
      "image/png": "[encoded data removed]",
      "text/plain": [
       "<Figure size 432x288 with 1 Axes>"
      ]
     },
     "metadata": {
      "needs_background": "light"
     },
     "output_type": "display_data"
    }
   ],
   "source": [
    "plt.hist(R_jd, bins=50)\n",
    "plt.xlabel('absolute return')\n",
    "plt.ylabel('frequency')\n",
    "plt.grid(True)"
   ]
  },
  {
   "cell_type": "code",
   "execution_count": 40,
   "metadata": {},
   "outputs": [
    {
     "name": "stdout",
     "output_type": "stream",
     "text": [
      "Confidence Level    Value-at-Risk\n",
      "---------------------------------\n",
      "           99.99           81.562\n",
      "           99.90           73.438\n",
      "           99.00           58.324\n",
      "           97.50           47.381\n",
      "           95.00           27.531\n",
      "           90.00            6.692\n"
     ]
    }
   ],
   "source": [
    "percs = [0.01, 0.1, 1., 2.5, 5.0, 10.0]\n",
    "var = scs.scoreatpercentile(R_jd, percs)\n",
    "print('%16s %16s' % ('Confidence Level', 'Value-at-Risk'))\n",
    "print(33 * '-')\n",
    "for pair in zip(percs, var):\n",
    "    print('%16.2f %16.3f' % (100 - pair[0], -pair[1]))"
   ]
  },
  {
   "cell_type": "code",
   "execution_count": 43,
   "metadata": {},
   "outputs": [
    {
     "data": {
      "text/plain": [
       "(-93.56392931025302, 0.0)"
      ]
     },
     "execution_count": 43,
     "metadata": {},
     "output_type": "execute_result"
    },
    {
     "data": {
      "image/png": "[encoded data removed]",
      "text/plain": [
       "<Figure size 432x288 with 1 Axes>"
      ]
     },
     "metadata": {
      "needs_background": "light"
     },
     "output_type": "display_data"
    }
   ],
   "source": [
    "percs = list(np.arange(0.0, 10.1, 0.1))\n",
    "gbm_var = scs.scoreatpercentile(R_gbm, percs)\n",
    "jd_var = scs.scoreatpercentile(R_jd, percs)\n",
    "\n",
    "plt.plot(percs, gbm_var, 'b', lw=1.5, label='GBM')\n",
    "plt.plot(percs, jd_var, 'r', lw=1.5, label='JD')\n",
    "plt.legend(loc=4)\n",
    "plt.xlabel('100 - confidence level [%]')\n",
    "plt.ylabel('value-at-risk')\n",
    "plt.grid(True)\n",
    "plt.ylim(ymax=0.0)"
   ]
  },
  {
   "cell_type": "markdown",
   "metadata": {},
   "source": [
    "信用价值调整\n"
   ]
  },
  {
   "cell_type": "code",
   "execution_count": null,
   "metadata": {},
   "outputs": [],
   "source": []
  }
 ],
 "metadata": {
  "kernelspec": {
   "display_name": "Python 3",
   "language": "python",
   "name": "python3"
  },
  "language_info": {
   "codemirror_mode": {
    "name": "ipython",
    "version": 3
   },
   "file_extension": ".py",
   "mimetype": "text/x-python",
   "name": "python",
   "nbconvert_exporter": "python",
   "pygments_lexer": "ipython3",
   "version": "3.7.7"
  }
 },
 "nbformat": 4,
 "nbformat_minor": 4
}
